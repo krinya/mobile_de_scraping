{
 "cells": [
  {
   "cell_type": "markdown",
   "metadata": {},
   "source": [
    "# Introduction"
   ]
  },
  {
   "cell_type": "markdown",
   "metadata": {},
   "source": [
    "# Import some packages that we are going to use\n",
    "If you do not have any of them install it by using pip/ pip3"
   ]
  },
  {
   "cell_type": "code",
   "execution_count": 5,
   "metadata": {},
   "outputs": [],
   "source": [
    "from selenium import webdriver\n",
    "from webdriver_manager.chrome import ChromeDriverManager\n",
    "from selenium.webdriver.chrome.options import Options\n",
    "import time\n",
    "from bs4 import BeautifulSoup\n",
    "import pandas as pd\n",
    "import numpy as np\n",
    "import re\n",
    "from random import randint\n",
    "from tqdm import tqdm"
   ]
  },
  {
   "cell_type": "markdown",
   "metadata": {},
   "source": [
    "# Start web browser using Selenium"
   ]
  },
  {
   "cell_type": "markdown",
   "metadata": {},
   "source": [
    "By using Selenium we can basically imitate that we are using a proper web browser and browsing like that on a website. It is useful since with other methods not every element of the webpage is loaded.\n",
    "\n",
    "We can also set some preferences that speeds up our web scraping. In this case since I do not want to scrape images, so our browser will not load them.\n",
    "\n",
    "This is the most easiest way to start Selenium. As you will see it it will open a Chrome window:"
   ]
  },
  {
   "cell_type": "code",
   "execution_count": 2,
   "metadata": {},
   "outputs": [
    {
     "name": "stderr",
     "output_type": "stream",
     "text": [
      "\n",
      "\n",
      "====== WebDriver manager ======\n",
      "Current google-chrome version is 97.0.4692\n",
      "Get LATEST driver version for 97.0.4692\n",
      "Driver [C:\\Users\\menyh\\.wdm\\drivers\\chromedriver\\win32\\97.0.4692.71\\chromedriver.exe] found in cache\n",
      "<ipython-input-2-6baf748b4601>:5: DeprecationWarning: use options instead of chrome_options\n",
      "  driver = webdriver.Chrome(ChromeDriverManager().install(), chrome_options=chrome_options)\n"
     ]
    }
   ],
   "source": [
    "chrome_options = webdriver.ChromeOptions()\n",
    "prefs = {\"profile.managed_default_content_settings.images\": 2}\n",
    "chrome_options.add_experimental_option(\"prefs\", prefs)\n",
    "\n",
    "driver = webdriver.Chrome(ChromeDriverManager().install(), chrome_options=chrome_options)\n",
    "#tes"
   ]
  },
  {
   "cell_type": "markdown",
   "metadata": {},
   "source": [
    "# Scraping"
   ]
  },
  {
   "cell_type": "markdown",
   "metadata": {},
   "source": [
    "I will show you how to scrape a website using www.mobile.de which is the leading secondhand (and new) vehicle marketplace. Mobile.de is from Germany and since the German economy is the biggest in Europe and also they car manufacturing is one of their main industry (think about Volkswagen, BMW, Mercedes and Audi) the site is one of the biggest car listing website in the World. It contains millions of advertisements.\n",
    "\n",
    "My approach to scrape and save car related data:\n",
    "\n",
    "1st step) Get all the links for each car advertisements: in this part we can get the car make and model (maybe price too) for each link.\n",
    "\n",
    "2nd step) Get all car reflated data for each car based on the links that we collected in step 1.\n",
    "\n",
    "As I told you before I am planing to publish this in two parts. In the first part i will show you the 1st step then in the 2nd part i will show you how to do the 2nd step."
   ]
  },
  {
   "cell_type": "markdown",
   "metadata": {},
   "source": [
    "## Go to the landing page of mobile.de\n",
    "Luckily mobile.de has an English UI too so we do not need to translate all the things to english and we can grab the English elements.\n",
    "\n",
    "Lets look how we can use Beautifulsoup to get the content of the page:"
   ]
  },
  {
   "cell_type": "code",
   "execution_count": 3,
   "metadata": {},
   "outputs": [],
   "source": [
    "starting_link_to_scrape = \"https://www.mobile.de/?lang=en\"\n",
    "driver.get(starting_link_to_scrape)\n",
    "time.sleep(1)\n",
    "base_source = driver.page_source\n",
    "base_soup = BeautifulSoup(base_source, 'html.parser')"
   ]
  },
  {
   "cell_type": "markdown",
   "metadata": {},
   "source": [
    "The content of the whole landing page:"
   ]
  },
  {
   "cell_type": "code",
   "execution_count": 4,
   "metadata": {},
   "outputs": [],
   "source": [
    "#base_soup"
   ]
  },
  {
   "cell_type": "markdown",
   "metadata": {},
   "source": [
    "First we would need to figure out how to scrape all car's data. Unfortunately if we just list all the cars on the site we won't be able to assign the make and the brand to cars (or I was not able to figure it how to do that) so we need to look for another method: We need to manually grab all car make and model combination and crate a URL based on them."
   ]
  },
  {
   "cell_type": "code",
   "execution_count": 5,
   "metadata": {},
   "outputs": [
    {
     "data": {
      "text/plain": [
       "<div class=\"form-group\"><label for=\"qsmakeBuy\">Make</label><select \"=\"\" class=\"form-control form-control--dropdown form-control--m mmh-make-incl\" id=\"qsmakeBuy\" name=\"mk\"><option selected=\"selected\" value=\"\">Any</option><option class=\"pmak\" value=\"17200\">Mercedes-Benz</option><option class=\"pmak\" value=\"25200\">Volkswagen</option><option class=\"pmak\" value=\"3500\">BMW</option><option class=\"pmak\" value=\"1900\">Audi</option><option disabled=\"disabled\"></option><option value=\"140\">Abarth</option><option value=\"203\">AC</option><option value=\"375\">Acura</option><option value=\"800\">Aixam</option><option value=\"900\">Alfa Romeo</option><option value=\"1100\">ALPINA</option><option value=\"121\">Artega</option><option value=\"1750\">Asia Motors</option><option value=\"1700\">Aston Martin</option><option value=\"1900\">Audi</option><option value=\"2000\">Austin</option><option value=\"1950\">Austin Healey</option><option value=\"31863\">BAIC</option><option value=\"3100\">Bentley</option><option value=\"3500\">BMW</option><option value=\"3850\">Borgward</option><option value=\"4025\">Brilliance</option><option value=\"4350\">Bugatti</option><option value=\"4400\">Buick</option><option value=\"4700\">Cadillac</option><option value=\"112\">Casalini</option><option value=\"5300\">Caterham</option><option value=\"83\">Chatenet</option><option value=\"5600\">Chevrolet</option><option value=\"5700\">Chrysler</option><option value=\"5900\">Citroën</option><option value=\"6200\">Cobra</option><option value=\"6325\">Corvette</option><option value=\"3\">Cupra</option><option value=\"6600\">Dacia</option><option value=\"6800\">Daewoo</option><option value=\"7000\">Daihatsu</option><option value=\"7400\">DeTomaso</option><option value=\"31864\">DFSK</option><option value=\"7700\">Dodge</option><option value=\"255\">Donkervoort</option><option value=\"235\">DS Automobiles</option><option value=\"8600\">Ferrari</option><option value=\"8800\">Fiat</option><option value=\"172\">Fisker</option><option value=\"9000\">Ford</option><option value=\"205\">GAC Gonow</option><option value=\"204\">Gemballa</option><option value=\"9900\">GMC</option><option value=\"122\">Grecav</option><option value=\"186\">Hamann</option><option value=\"10850\">Holden</option><option value=\"11000\">Honda</option><option value=\"11050\">Hummer</option><option value=\"11600\">Hyundai</option><option value=\"11650\">Infiniti</option><option value=\"11900\">Isuzu</option><option value=\"12100\">Iveco</option><option value=\"12400\">Jaguar</option><option value=\"12600\">Jeep</option><option value=\"13200\">Kia</option><option value=\"13450\">Koenigsegg</option><option value=\"13900\">KTM</option><option value=\"14400\">Lada</option><option value=\"14600\">Lamborghini</option><option value=\"14700\">Lancia</option><option value=\"14800\">Land Rover</option><option value=\"14845\">Landwind</option><option value=\"15200\">Lexus</option><option value=\"15400\">Ligier</option><option value=\"15500\">Lincoln</option><option value=\"15900\">Lotus</option><option value=\"16200\">Mahindra</option><option value=\"16600\">Maserati</option><option value=\"16700\">Maybach</option><option value=\"16800\">Mazda</option><option value=\"137\">McLaren</option><option value=\"17200\">Mercedes-Benz</option><option value=\"17300\">MG</option><option value=\"30011\">Microcar</option><option value=\"17500\">MINI</option><option value=\"17700\">Mitsubishi</option><option value=\"17900\">Morgan</option><option value=\"18700\">Nissan</option><option value=\"18875\">NSU</option><option value=\"18975\">Oldsmobile</option><option value=\"19000\">Opel</option><option value=\"149\">Pagani</option><option value=\"19300\">Peugeot</option><option value=\"19600\">Piaggio</option><option value=\"19800\">Plymouth</option><option value=\"4\">Polestar</option><option value=\"20000\">Pontiac</option><option value=\"20100\">Porsche</option><option value=\"20200\">Proton</option><option value=\"20700\">Renault</option><option value=\"21600\">Rolls-Royce</option><option value=\"21700\">Rover</option><option value=\"125\">Ruf</option><option value=\"21800\">Saab</option><option value=\"22000\">Santana</option><option value=\"22500\">Seat</option><option value=\"22900\">Skoda</option><option value=\"23000\">Smart</option><option value=\"188\">speedART</option><option value=\"100\">Spyker</option><option value=\"23100\">Ssangyong</option><option value=\"23500\">Subaru</option><option value=\"23600\">Suzuki</option><option value=\"23800\">Talbot</option><option value=\"23825\">Tata</option><option value=\"189\">TECHART</option><option value=\"135\">Tesla</option><option value=\"24100\">Toyota</option><option value=\"24200\">Trabant</option><option value=\"24400\">Triumph</option><option value=\"24500\">TVR</option><option value=\"25200\">Volkswagen</option><option value=\"25100\">Volvo</option><option value=\"25300\">Wartburg</option><option value=\"113\">Westfield</option><option value=\"25650\">Wiesmann</option><option value=\"1400\">Other</option></select></div>"
      ]
     },
     "execution_count": 5,
     "metadata": {},
     "output_type": "execute_result"
    }
   ],
   "source": [
    "make_list = base_soup.findAll('div', {'class': 'form-group'})[0]\n",
    "make_list"
   ]
  },
  {
   "cell_type": "code",
   "execution_count": 6,
   "metadata": {},
   "outputs": [],
   "source": [
    "one_make = make_list.findAll('option')"
   ]
  },
  {
   "cell_type": "code",
   "execution_count": 7,
   "metadata": {},
   "outputs": [],
   "source": [
    "car_make = []\n",
    "id1 = []\n",
    "\n",
    "for i in range(len(one_make)):\n",
    "    #print(one_make[i].text.strip())\n",
    "    car_make.append(one_make[i].text.strip())\n",
    "    try:\n",
    "        #print(one_make[i]['value'])\n",
    "        id1.append(one_make[i]['value'])\n",
    "    except:\n",
    "        #print('')\n",
    "        id1.append('')\n",
    "\n",
    "car_base_make_data = pd.DataFrame({\n",
    "    'car_make' : car_make,\n",
    "    'id1' : id1\n",
    "    })"
   ]
  },
  {
   "cell_type": "code",
   "execution_count": 8,
   "metadata": {},
   "outputs": [
    {
     "name": "stdout",
     "output_type": "stream",
     "text": [
      "['Any', 'Mercedes-Benz', 'Volkswagen', 'BMW', 'Audi', '', 'Abarth', 'AC', 'Acura', 'Aixam', 'Alfa Romeo', 'ALPINA', 'Artega', 'Asia Motors', 'Aston Martin', 'Audi', 'Austin', 'Austin Healey', 'BAIC', 'Bentley', 'BMW', 'Borgward', 'Brilliance', 'Bugatti', 'Buick', 'Cadillac', 'Casalini', 'Caterham', 'Chatenet', 'Chevrolet', 'Chrysler', 'Citroën', 'Cobra', 'Corvette', 'Cupra', 'Dacia', 'Daewoo', 'Daihatsu', 'DeTomaso', 'DFSK', 'Dodge', 'Donkervoort', 'DS Automobiles', 'Ferrari', 'Fiat', 'Fisker', 'Ford', 'GAC Gonow', 'Gemballa', 'GMC', 'Grecav', 'Hamann', 'Holden', 'Honda', 'Hummer', 'Hyundai', 'Infiniti', 'Isuzu', 'Iveco', 'Jaguar', 'Jeep', 'Kia', 'Koenigsegg', 'KTM', 'Lada', 'Lamborghini', 'Lancia', 'Land Rover', 'Landwind', 'Lexus', 'Ligier', 'Lincoln', 'Lotus', 'Mahindra', 'Maserati', 'Maybach', 'Mazda', 'McLaren', 'Mercedes-Benz', 'MG', 'Microcar', 'MINI', 'Mitsubishi', 'Morgan', 'Nissan', 'NSU', 'Oldsmobile', 'Opel', 'Pagani', 'Peugeot', 'Piaggio', 'Plymouth', 'Polestar', 'Pontiac', 'Porsche', 'Proton', 'Renault', 'Rolls-Royce', 'Rover', 'Ruf', 'Saab', 'Santana', 'Seat', 'Skoda', 'Smart', 'speedART', 'Spyker', 'Ssangyong', 'Subaru', 'Suzuki', 'Talbot', 'Tata', 'TECHART', 'Tesla', 'Toyota', 'Trabant', 'Triumph', 'TVR', 'Volkswagen', 'Volvo', 'Wartburg', 'Westfield', 'Wiesmann', 'Other']\n",
      "['', '17200', '25200', '3500', '1900', '', '140', '203', '375', '800', '900', '1100', '121', '1750', '1700', '1900', '2000', '1950', '31863', '3100', '3500', '3850', '4025', '4350', '4400', '4700', '112', '5300', '83', '5600', '5700', '5900', '6200', '6325', '3', '6600', '6800', '7000', '7400', '31864', '7700', '255', '235', '8600', '8800', '172', '9000', '205', '204', '9900', '122', '186', '10850', '11000', '11050', '11600', '11650', '11900', '12100', '12400', '12600', '13200', '13450', '13900', '14400', '14600', '14700', '14800', '14845', '15200', '15400', '15500', '15900', '16200', '16600', '16700', '16800', '137', '17200', '17300', '30011', '17500', '17700', '17900', '18700', '18875', '18975', '19000', '149', '19300', '19600', '19800', '4', '20000', '20100', '20200', '20700', '21600', '21700', '125', '21800', '22000', '22500', '22900', '23000', '188', '100', '23100', '23500', '23600', '23800', '23825', '189', '135', '24100', '24200', '24400', '24500', '25200', '25100', '25300', '113', '25650', '1400']\n"
     ]
    }
   ],
   "source": [
    "car_base_make_data\n",
    "print(list(car_base_make_data['car_make']))\n",
    "print(list(car_base_make_data['id1']))"
   ]
  },
  {
   "cell_type": "code",
   "execution_count": 9,
   "metadata": {},
   "outputs": [
    {
     "data": {
      "text/html": [
       "<div>\n",
       "<style scoped>\n",
       "    .dataframe tbody tr th:only-of-type {\n",
       "        vertical-align: middle;\n",
       "    }\n",
       "\n",
       "    .dataframe tbody tr th {\n",
       "        vertical-align: top;\n",
       "    }\n",
       "\n",
       "    .dataframe thead th {\n",
       "        text-align: right;\n",
       "    }\n",
       "</style>\n",
       "<table border=\"1\" class=\"dataframe\">\n",
       "  <thead>\n",
       "    <tr style=\"text-align: right;\">\n",
       "      <th></th>\n",
       "      <th>car_make</th>\n",
       "      <th>id1</th>\n",
       "    </tr>\n",
       "  </thead>\n",
       "  <tbody>\n",
       "    <tr>\n",
       "      <th>1</th>\n",
       "      <td>Mercedes-Benz</td>\n",
       "      <td>17200</td>\n",
       "    </tr>\n",
       "    <tr>\n",
       "      <th>2</th>\n",
       "      <td>Volkswagen</td>\n",
       "      <td>25200</td>\n",
       "    </tr>\n",
       "    <tr>\n",
       "      <th>3</th>\n",
       "      <td>BMW</td>\n",
       "      <td>3500</td>\n",
       "    </tr>\n",
       "    <tr>\n",
       "      <th>4</th>\n",
       "      <td>Audi</td>\n",
       "      <td>1900</td>\n",
       "    </tr>\n",
       "    <tr>\n",
       "      <th>6</th>\n",
       "      <td>Abarth</td>\n",
       "      <td>140</td>\n",
       "    </tr>\n",
       "    <tr>\n",
       "      <th>...</th>\n",
       "      <td>...</td>\n",
       "      <td>...</td>\n",
       "    </tr>\n",
       "    <tr>\n",
       "      <th>118</th>\n",
       "      <td>Volkswagen</td>\n",
       "      <td>25200</td>\n",
       "    </tr>\n",
       "    <tr>\n",
       "      <th>119</th>\n",
       "      <td>Volvo</td>\n",
       "      <td>25100</td>\n",
       "    </tr>\n",
       "    <tr>\n",
       "      <th>120</th>\n",
       "      <td>Wartburg</td>\n",
       "      <td>25300</td>\n",
       "    </tr>\n",
       "    <tr>\n",
       "      <th>121</th>\n",
       "      <td>Westfield</td>\n",
       "      <td>113</td>\n",
       "    </tr>\n",
       "    <tr>\n",
       "      <th>122</th>\n",
       "      <td>Wiesmann</td>\n",
       "      <td>25650</td>\n",
       "    </tr>\n",
       "  </tbody>\n",
       "</table>\n",
       "<p>121 rows × 2 columns</p>\n",
       "</div>"
      ],
      "text/plain": [
       "          car_make    id1\n",
       "1    Mercedes-Benz  17200\n",
       "2       Volkswagen  25200\n",
       "3              BMW   3500\n",
       "4             Audi   1900\n",
       "6           Abarth    140\n",
       "..             ...    ...\n",
       "118     Volkswagen  25200\n",
       "119          Volvo  25100\n",
       "120       Wartburg  25300\n",
       "121      Westfield    113\n",
       "122       Wiesmann  25650\n",
       "\n",
       "[121 rows x 2 columns]"
      ]
     },
     "execution_count": 9,
     "metadata": {},
     "output_type": "execute_result"
    }
   ],
   "source": [
    "car_make_filter_out = ['Any', 'Other', '']\n",
    "car_base_make_data = car_base_make_data[~car_base_make_data.car_make.isin(car_make_filter_out)]\n",
    "car_base_brand_data = car_base_brand_data.drop_duplicates()\n",
    "car_base_make_data"
   ]
  },
  {
   "cell_type": "code",
   "execution_count": 21,
   "metadata": {},
   "outputs": [
    {
     "name": "stderr",
     "output_type": "stream",
     "text": [
      "Progress: 100%|██████████| 121/121 [06:35<00:00,  3.26s/it]\n"
     ]
    }
   ],
   "source": [
    "car_base_brand_data = pd.DataFrame()\n",
    "\n",
    "for one_make in tqdm(car_base_make_data['car_make'], \"Progress: \"):\n",
    "\n",
    "    make_string = \"//select[@name='mk']/option[text()='{}']\".format(one_make)\n",
    "    driver.find_element_by_xpath(make_string).click()\n",
    "    time.sleep(3)\n",
    "\n",
    "    base_source = driver.page_source\n",
    "    base_soup = BeautifulSoup(base_source, 'html.parser')\n",
    "\n",
    "    model_list = base_soup.findAll('div', {'class': 'form-group'})[1]\n",
    "    models = model_list.findAll('option')\n",
    "\n",
    "    car_model = []\n",
    "    id2 = []\n",
    "\n",
    "    for i in range(len(models)):\n",
    "        \n",
    "        #print(car_model.append(models[i].text.strip()))\n",
    "        car_model.append(models[i].text.strip())\n",
    "        \n",
    "        try:\n",
    "            #print(models[i]['value'])\n",
    "            id2.append(models[i]['value'])\n",
    "        except:\n",
    "            #print('')\n",
    "            id2.append('')\n",
    "\n",
    "    car_base_model_data = pd.DataFrame({'car_model' : car_model, 'id2' : id2})\n",
    "    car_base_model_data['car_make'] = one_make\n",
    "\n",
    "    car_base_brand_data = pd.concat([car_base_brand_data, car_base_model_data], ignore_index=True)\n",
    "    "
   ]
  },
  {
   "cell_type": "code",
   "execution_count": null,
   "metadata": {},
   "outputs": [],
   "source": [
    "car_base_brand_data = car_base_brand_data.drop_duplicates()"
   ]
  },
  {
   "cell_type": "code",
   "execution_count": 22,
   "metadata": {},
   "outputs": [
    {
     "data": {
      "text/html": [
       "<div>\n",
       "<style scoped>\n",
       "    .dataframe tbody tr th:only-of-type {\n",
       "        vertical-align: middle;\n",
       "    }\n",
       "\n",
       "    .dataframe tbody tr th {\n",
       "        vertical-align: top;\n",
       "    }\n",
       "\n",
       "    .dataframe thead th {\n",
       "        text-align: right;\n",
       "    }\n",
       "</style>\n",
       "<table border=\"1\" class=\"dataframe\">\n",
       "  <thead>\n",
       "    <tr style=\"text-align: right;\">\n",
       "      <th></th>\n",
       "      <th>car_model</th>\n",
       "      <th>id2</th>\n",
       "      <th>car_make</th>\n",
       "    </tr>\n",
       "  </thead>\n",
       "  <tbody>\n",
       "    <tr>\n",
       "      <th>796</th>\n",
       "      <td>Any</td>\n",
       "      <td></td>\n",
       "      <td>Austin</td>\n",
       "    </tr>\n",
       "    <tr>\n",
       "      <th>797</th>\n",
       "      <td></td>\n",
       "      <td></td>\n",
       "      <td>Austin</td>\n",
       "    </tr>\n",
       "    <tr>\n",
       "      <th>798</th>\n",
       "      <td>Other</td>\n",
       "      <td>1</td>\n",
       "      <td>Austin</td>\n",
       "    </tr>\n",
       "  </tbody>\n",
       "</table>\n",
       "</div>"
      ],
      "text/plain": [
       "    car_model id2 car_make\n",
       "796       Any       Austin\n",
       "797                 Austin\n",
       "798     Other   1   Austin"
      ]
     },
     "execution_count": 22,
     "metadata": {},
     "output_type": "execute_result"
    }
   ],
   "source": [
    "car_base_brand_data[car_base_brand_data['car_make'] == \"Austin\"]"
   ]
  },
  {
   "cell_type": "code",
   "execution_count": 60,
   "metadata": {},
   "outputs": [
    {
     "data": {
      "text/html": [
       "<div>\n",
       "<style scoped>\n",
       "    .dataframe tbody tr th:only-of-type {\n",
       "        vertical-align: middle;\n",
       "    }\n",
       "\n",
       "    .dataframe tbody tr th {\n",
       "        vertical-align: top;\n",
       "    }\n",
       "\n",
       "    .dataframe thead th {\n",
       "        text-align: right;\n",
       "    }\n",
       "</style>\n",
       "<table border=\"1\" class=\"dataframe\">\n",
       "  <thead>\n",
       "    <tr style=\"text-align: right;\">\n",
       "      <th></th>\n",
       "      <th>car_make</th>\n",
       "      <th>id1</th>\n",
       "      <th>car_model</th>\n",
       "      <th>id2</th>\n",
       "      <th>link</th>\n",
       "    </tr>\n",
       "  </thead>\n",
       "  <tbody>\n",
       "    <tr>\n",
       "      <th>0</th>\n",
       "      <td>Mercedes-Benz</td>\n",
       "      <td>17200</td>\n",
       "      <td>190</td>\n",
       "      <td>126</td>\n",
       "      <td>https://suchen.mobile.de/fahrzeuge/search.html...</td>\n",
       "    </tr>\n",
       "    <tr>\n",
       "      <th>1</th>\n",
       "      <td>Mercedes-Benz</td>\n",
       "      <td>17200</td>\n",
       "      <td>190</td>\n",
       "      <td>126</td>\n",
       "      <td>https://suchen.mobile.de/fahrzeuge/search.html...</td>\n",
       "    </tr>\n",
       "    <tr>\n",
       "      <th>2</th>\n",
       "      <td>Mercedes-Benz</td>\n",
       "      <td>17200</td>\n",
       "      <td>200</td>\n",
       "      <td>127</td>\n",
       "      <td>https://suchen.mobile.de/fahrzeuge/search.html...</td>\n",
       "    </tr>\n",
       "    <tr>\n",
       "      <th>3</th>\n",
       "      <td>Mercedes-Benz</td>\n",
       "      <td>17200</td>\n",
       "      <td>200</td>\n",
       "      <td>127</td>\n",
       "      <td>https://suchen.mobile.de/fahrzeuge/search.html...</td>\n",
       "    </tr>\n",
       "    <tr>\n",
       "      <th>4</th>\n",
       "      <td>Mercedes-Benz</td>\n",
       "      <td>17200</td>\n",
       "      <td>220</td>\n",
       "      <td>128</td>\n",
       "      <td>https://suchen.mobile.de/fahrzeuge/search.html...</td>\n",
       "    </tr>\n",
       "    <tr>\n",
       "      <th>...</th>\n",
       "      <td>...</td>\n",
       "      <td>...</td>\n",
       "      <td>...</td>\n",
       "      <td>...</td>\n",
       "      <td>...</td>\n",
       "    </tr>\n",
       "    <tr>\n",
       "      <th>3985</th>\n",
       "      <td>Wiesmann</td>\n",
       "      <td>25650</td>\n",
       "      <td>MF 30</td>\n",
       "      <td>4</td>\n",
       "      <td>https://suchen.mobile.de/fahrzeuge/search.html...</td>\n",
       "    </tr>\n",
       "    <tr>\n",
       "      <th>3986</th>\n",
       "      <td>Wiesmann</td>\n",
       "      <td>25650</td>\n",
       "      <td>MF 35</td>\n",
       "      <td>6</td>\n",
       "      <td>https://suchen.mobile.de/fahrzeuge/search.html...</td>\n",
       "    </tr>\n",
       "    <tr>\n",
       "      <th>3987</th>\n",
       "      <td>Wiesmann</td>\n",
       "      <td>25650</td>\n",
       "      <td>MF 4</td>\n",
       "      <td>7</td>\n",
       "      <td>https://suchen.mobile.de/fahrzeuge/search.html...</td>\n",
       "    </tr>\n",
       "    <tr>\n",
       "      <th>3988</th>\n",
       "      <td>Wiesmann</td>\n",
       "      <td>25650</td>\n",
       "      <td>MF 5</td>\n",
       "      <td>8</td>\n",
       "      <td>https://suchen.mobile.de/fahrzeuge/search.html...</td>\n",
       "    </tr>\n",
       "    <tr>\n",
       "      <th>3989</th>\n",
       "      <td>Wiesmann</td>\n",
       "      <td>25650</td>\n",
       "      <td>Other</td>\n",
       "      <td>1</td>\n",
       "      <td>https://suchen.mobile.de/fahrzeuge/search.html...</td>\n",
       "    </tr>\n",
       "  </tbody>\n",
       "</table>\n",
       "<p>3990 rows × 5 columns</p>\n",
       "</div>"
      ],
      "text/plain": [
       "           car_make    id1 car_model  id2  \\\n",
       "0     Mercedes-Benz  17200       190  126   \n",
       "1     Mercedes-Benz  17200       190  126   \n",
       "2     Mercedes-Benz  17200       200  127   \n",
       "3     Mercedes-Benz  17200       200  127   \n",
       "4     Mercedes-Benz  17200       220  128   \n",
       "...             ...    ...       ...  ...   \n",
       "3985       Wiesmann  25650     MF 30    4   \n",
       "3986       Wiesmann  25650     MF 35    6   \n",
       "3987       Wiesmann  25650      MF 4    7   \n",
       "3988       Wiesmann  25650      MF 5    8   \n",
       "3989       Wiesmann  25650     Other    1   \n",
       "\n",
       "                                                   link  \n",
       "0     https://suchen.mobile.de/fahrzeuge/search.html...  \n",
       "1     https://suchen.mobile.de/fahrzeuge/search.html...  \n",
       "2     https://suchen.mobile.de/fahrzeuge/search.html...  \n",
       "3     https://suchen.mobile.de/fahrzeuge/search.html...  \n",
       "4     https://suchen.mobile.de/fahrzeuge/search.html...  \n",
       "...                                                 ...  \n",
       "3985  https://suchen.mobile.de/fahrzeuge/search.html...  \n",
       "3986  https://suchen.mobile.de/fahrzeuge/search.html...  \n",
       "3987  https://suchen.mobile.de/fahrzeuge/search.html...  \n",
       "3988  https://suchen.mobile.de/fahrzeuge/search.html...  \n",
       "3989  https://suchen.mobile.de/fahrzeuge/search.html...  \n",
       "\n",
       "[3990 rows x 5 columns]"
      ]
     },
     "execution_count": 60,
     "metadata": {},
     "output_type": "execute_result"
    }
   ],
   "source": [
    "car_data_base = pd.merge(car_base_make_data, car_base_brand_data, left_on= ['car_make'], right_on=['car_make'], how = 'right')\n",
    "car_data_base = car_data_base[~car_data_base.id2.isin([\"\"])]\n",
    "car_data_base = car_data_base[car_data_base.id2.apply(lambda x: x.isnumeric())]\n",
    "car_data_base['link'] = \"https://suchen.mobile.de/fahrzeuge/search.html?dam=0&isSearchRequest=true&ms=\" + car_data_base['id1'] + \";\" + car_data_base['id2'] + \"&ref=quickSearch&sfmr=false&vc=Car\"\n",
    "car_data_base = car_data_base.reset_index(drop = True)\n",
    "car_data_base"
   ]
  },
  {
   "cell_type": "code",
   "execution_count": 65,
   "metadata": {},
   "outputs": [
    {
     "name": "stdout",
     "output_type": "stream",
     "text": [
      "make:  Mercedes-Benz  model:  ML 420\n",
      "https://suchen.mobile.de/fahrzeuge/search.html?dam=0&isSearchRequest=true&ms=17200;192&ref=quickSearch&sfmr=false&vc=Car\n"
     ]
    }
   ],
   "source": [
    "random_number = randrange(len(car_data_base))\n",
    "print(\"make: \", car_data_base['car_make'][random_number], \" model: \", car_data_base['car_model'][random_number])\n",
    "print(car_data_base['link'][random_number])"
   ]
  },
  {
   "cell_type": "markdown",
   "metadata": {},
   "source": [
    "# Save CSV"
   ]
  },
  {
   "cell_type": "code",
   "execution_count": 66,
   "metadata": {},
   "outputs": [],
   "source": [
    "car_data_base.to_csv(\"car_data_base.csv\", encoding='utf-8', index=False)"
   ]
  },
  {
   "cell_type": "markdown",
   "metadata": {},
   "source": [
    "# Put everything together into one function"
   ]
  },
  {
   "cell_type": "code",
   "execution_count": 4,
   "metadata": {},
   "outputs": [],
   "source": [
    "def get_all_make_model(mobile_de_eng_base_link=\"https://www.mobile.de/?lang=en\", save_filename=\"make_and_model_links.csv\"):\n",
    "\n",
    "    from selenium import webdriver\n",
    "    from webdriver_manager.chrome import ChromeDriverManager\n",
    "    from selenium.webdriver.chrome.options import Options\n",
    "    from bs4 import BeautifulSoup\n",
    "    import pandas as pd\n",
    "    import numpy as np\n",
    "    from random import randrange\n",
    "    from tqdm import tqdm\n",
    "    import time\n",
    "\n",
    "    chrome_options = webdriver.ChromeOptions()\n",
    "    prefs = {\"profile.managed_default_content_settings.images\": 2}\n",
    "    chrome_options.add_experimental_option(\"prefs\", prefs)\n",
    "\n",
    "    driver = webdriver.Chrome(ChromeDriverManager().install(), chrome_options=chrome_options)\n",
    "\n",
    "    driver.get(mobile_de_eng_base_link)\n",
    "    time.sleep(3)\n",
    "    base_source = driver.page_source\n",
    "    base_soup = BeautifulSoup(base_source, 'html.parser')\n",
    "\n",
    "    make_list = base_soup.findAll('div', {'class': 'form-group'})[0]\n",
    "    one_make = make_list.findAll('option')\n",
    "\n",
    "    car_make = []\n",
    "    id1 = []\n",
    "\n",
    "    for i in range(len(one_make)):\n",
    "\n",
    "        car_make.append(one_make[i].text.strip())\n",
    "\n",
    "        try:\n",
    "            id1.append(one_make[i]['value'])\n",
    "        except:\n",
    "            id1.append('')\n",
    "\n",
    "    car_base_make_data = pd.DataFrame({'car_make': car_make, 'id1': id1})\n",
    "\n",
    "    car_make_filter_out = ['Any', 'Other', '']\n",
    "    car_base_make_data = car_base_make_data[~car_base_make_data.car_make.isin(car_make_filter_out)]\n",
    "    car_base_make_data = car_base_make_data.drop_duplicates()\n",
    "    car_base_make_data = car_base_make_data.reset_index(drop=True)\n",
    "\n",
    "    car_base_brand_data = pd.DataFrame()\n",
    "\n",
    "    for one_make in tqdm(car_base_make_data['car_make'], \"Progress: \"):\n",
    "\n",
    "        make_string = \"//select[@name='mk']/option[text()='{}']\".format(one_make)\n",
    "        driver.find_element_by_xpath(make_string).click()\n",
    "        time.sleep(3)\n",
    "\n",
    "        base_source = driver.page_source\n",
    "        base_soup = BeautifulSoup(base_source, 'html.parser')\n",
    "\n",
    "        model_list = base_soup.findAll('div', {'class': 'form-group'})[1]\n",
    "        models = model_list.findAll('option')\n",
    "\n",
    "        car_model = []\n",
    "        id2 = []\n",
    "\n",
    "        for i in range(len(models)):\n",
    "\n",
    "            car_model.append(models[i].text.strip())\n",
    "\n",
    "            try:\n",
    "                id2.append(models[i]['value'])\n",
    "            except:\n",
    "                id2.append('')\n",
    "\n",
    "        car_base_model_data = pd.DataFrame({'car_model': car_model, 'id2': id2})\n",
    "        car_base_model_data['car_make'] = one_make\n",
    "\n",
    "        car_base_brand_data = pd.concat(\n",
    "            [car_base_brand_data, car_base_model_data], ignore_index=True)\n",
    "\n",
    "    car_data_base = pd.merge(car_base_make_data, car_base_brand_data, left_on=['car_make'], right_on=['car_make'], how='right')\n",
    "    car_data_base = car_data_base[~car_data_base.id2.isin([\"\"])]\n",
    "    car_data_base = car_data_base[car_data_base.id2.apply(lambda x: x.isnumeric())]\n",
    "    car_data_base = car_data_base.drop_duplicates()\n",
    "    \n",
    "    car_data_base['link'] = \"https://suchen.mobile.de/fahrzeuge/search.html?dam=0&isSearchRequest=true&ms=\" + car_data_base['id1'] + \";\" + car_data_base['id2'] +  \"&ref=quickSearch&sfmr=false&vc=Car\"\n",
    "    car_data_base = car_data_base.reset_index(drop=True)\n",
    "\n",
    "    if len(save_filename) > 0:\n",
    "        car_data_base.to_csv(save_filename, encoding='utf-8', index=False)\n",
    "\n",
    "    return(car_data_base)\n"
   ]
  },
  {
   "cell_type": "code",
   "execution_count": 5,
   "metadata": {},
   "outputs": [
    {
     "name": "stderr",
     "output_type": "stream",
     "text": [
      "\n",
      "\n",
      "====== WebDriver manager ======\n",
      "Current google-chrome version is 97.0.4692\n",
      "Get LATEST driver version for 97.0.4692\n",
      "Driver [C:\\Users\\menyh\\.wdm\\drivers\\chromedriver\\win32\\97.0.4692.71\\chromedriver.exe] found in cache\n",
      "<ipython-input-4-29fbccade488>:17: DeprecationWarning: use options instead of chrome_options\n",
      "  driver = webdriver.Chrome(ChromeDriverManager().install(), chrome_options=chrome_options)\n",
      "Progress: 100%|██████████| 117/117 [06:20<00:00,  3.25s/it]\n"
     ]
    }
   ],
   "source": [
    "all_data = get_all_make_model(save_filename=\"make_and_model_links.csv\")"
   ]
  },
  {
   "cell_type": "code",
   "execution_count": 3,
   "metadata": {},
   "outputs": [
    {
     "data": {
      "text/html": [
       "<div>\n",
       "<style scoped>\n",
       "    .dataframe tbody tr th:only-of-type {\n",
       "        vertical-align: middle;\n",
       "    }\n",
       "\n",
       "    .dataframe tbody tr th {\n",
       "        vertical-align: top;\n",
       "    }\n",
       "\n",
       "    .dataframe thead th {\n",
       "        text-align: right;\n",
       "    }\n",
       "</style>\n",
       "<table border=\"1\" class=\"dataframe\">\n",
       "  <thead>\n",
       "    <tr style=\"text-align: right;\">\n",
       "      <th></th>\n",
       "      <th>car_make</th>\n",
       "      <th>id1</th>\n",
       "      <th>car_model</th>\n",
       "      <th>id2</th>\n",
       "      <th>link</th>\n",
       "    </tr>\n",
       "  </thead>\n",
       "  <tbody>\n",
       "    <tr>\n",
       "      <th>0</th>\n",
       "      <td>Mercedes-Benz</td>\n",
       "      <td>17200</td>\n",
       "      <td>190</td>\n",
       "      <td>126</td>\n",
       "      <td>https://suchen.mobile.de/fahrzeuge/search.html...</td>\n",
       "    </tr>\n",
       "    <tr>\n",
       "      <th>1</th>\n",
       "      <td>Mercedes-Benz</td>\n",
       "      <td>17200</td>\n",
       "      <td>200</td>\n",
       "      <td>127</td>\n",
       "      <td>https://suchen.mobile.de/fahrzeuge/search.html...</td>\n",
       "    </tr>\n",
       "    <tr>\n",
       "      <th>2</th>\n",
       "      <td>Mercedes-Benz</td>\n",
       "      <td>17200</td>\n",
       "      <td>220</td>\n",
       "      <td>128</td>\n",
       "      <td>https://suchen.mobile.de/fahrzeuge/search.html...</td>\n",
       "    </tr>\n",
       "    <tr>\n",
       "      <th>3</th>\n",
       "      <td>Mercedes-Benz</td>\n",
       "      <td>17200</td>\n",
       "      <td>230</td>\n",
       "      <td>129</td>\n",
       "      <td>https://suchen.mobile.de/fahrzeuge/search.html...</td>\n",
       "    </tr>\n",
       "    <tr>\n",
       "      <th>4</th>\n",
       "      <td>Mercedes-Benz</td>\n",
       "      <td>17200</td>\n",
       "      <td>240</td>\n",
       "      <td>130</td>\n",
       "      <td>https://suchen.mobile.de/fahrzeuge/search.html...</td>\n",
       "    </tr>\n",
       "    <tr>\n",
       "      <th>...</th>\n",
       "      <td>...</td>\n",
       "      <td>...</td>\n",
       "      <td>...</td>\n",
       "      <td>...</td>\n",
       "      <td>...</td>\n",
       "    </tr>\n",
       "    <tr>\n",
       "      <th>2230</th>\n",
       "      <td>Wiesmann</td>\n",
       "      <td>25650</td>\n",
       "      <td>MF 30</td>\n",
       "      <td>4</td>\n",
       "      <td>https://suchen.mobile.de/fahrzeuge/search.html...</td>\n",
       "    </tr>\n",
       "    <tr>\n",
       "      <th>2231</th>\n",
       "      <td>Wiesmann</td>\n",
       "      <td>25650</td>\n",
       "      <td>MF 35</td>\n",
       "      <td>6</td>\n",
       "      <td>https://suchen.mobile.de/fahrzeuge/search.html...</td>\n",
       "    </tr>\n",
       "    <tr>\n",
       "      <th>2232</th>\n",
       "      <td>Wiesmann</td>\n",
       "      <td>25650</td>\n",
       "      <td>MF 4</td>\n",
       "      <td>7</td>\n",
       "      <td>https://suchen.mobile.de/fahrzeuge/search.html...</td>\n",
       "    </tr>\n",
       "    <tr>\n",
       "      <th>2233</th>\n",
       "      <td>Wiesmann</td>\n",
       "      <td>25650</td>\n",
       "      <td>MF 5</td>\n",
       "      <td>8</td>\n",
       "      <td>https://suchen.mobile.de/fahrzeuge/search.html...</td>\n",
       "    </tr>\n",
       "    <tr>\n",
       "      <th>2234</th>\n",
       "      <td>Wiesmann</td>\n",
       "      <td>25650</td>\n",
       "      <td>Other</td>\n",
       "      <td>1</td>\n",
       "      <td>https://suchen.mobile.de/fahrzeuge/search.html...</td>\n",
       "    </tr>\n",
       "  </tbody>\n",
       "</table>\n",
       "<p>2235 rows × 5 columns</p>\n",
       "</div>"
      ],
      "text/plain": [
       "           car_make    id1 car_model  id2  \\\n",
       "0     Mercedes-Benz  17200       190  126   \n",
       "1     Mercedes-Benz  17200       200  127   \n",
       "2     Mercedes-Benz  17200       220  128   \n",
       "3     Mercedes-Benz  17200       230  129   \n",
       "4     Mercedes-Benz  17200       240  130   \n",
       "...             ...    ...       ...  ...   \n",
       "2230       Wiesmann  25650     MF 30    4   \n",
       "2231       Wiesmann  25650     MF 35    6   \n",
       "2232       Wiesmann  25650      MF 4    7   \n",
       "2233       Wiesmann  25650      MF 5    8   \n",
       "2234       Wiesmann  25650     Other    1   \n",
       "\n",
       "                                                   link  \n",
       "0     https://suchen.mobile.de/fahrzeuge/search.html...  \n",
       "1     https://suchen.mobile.de/fahrzeuge/search.html...  \n",
       "2     https://suchen.mobile.de/fahrzeuge/search.html...  \n",
       "3     https://suchen.mobile.de/fahrzeuge/search.html...  \n",
       "4     https://suchen.mobile.de/fahrzeuge/search.html...  \n",
       "...                                                 ...  \n",
       "2230  https://suchen.mobile.de/fahrzeuge/search.html...  \n",
       "2231  https://suchen.mobile.de/fahrzeuge/search.html...  \n",
       "2232  https://suchen.mobile.de/fahrzeuge/search.html...  \n",
       "2233  https://suchen.mobile.de/fahrzeuge/search.html...  \n",
       "2234  https://suchen.mobile.de/fahrzeuge/search.html...  \n",
       "\n",
       "[2235 rows x 5 columns]"
      ]
     },
     "execution_count": 3,
     "metadata": {},
     "output_type": "execute_result"
    }
   ],
   "source": [
    "all_data"
   ]
  },
  {
   "cell_type": "code",
   "execution_count": null,
   "metadata": {},
   "outputs": [],
   "source": []
  }
 ],
 "metadata": {
  "interpreter": {
   "hash": "b3ba2566441a7c06988d0923437866b63cedc61552a5af99d1f4fb67d367b25f"
  },
  "kernelspec": {
   "display_name": "Python 3.8.8 64-bit ('base': conda)",
   "language": "python",
   "name": "python3"
  },
  "language_info": {
   "codemirror_mode": {
    "name": "ipython",
    "version": 3
   },
   "file_extension": ".py",
   "mimetype": "text/x-python",
   "name": "python",
   "nbconvert_exporter": "python",
   "pygments_lexer": "ipython3",
   "version": "3.8.8"
  },
  "orig_nbformat": 4
 },
 "nbformat": 4,
 "nbformat_minor": 2
}
