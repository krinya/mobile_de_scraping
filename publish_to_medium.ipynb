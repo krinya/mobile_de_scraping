{
 "cells": [
  {
   "cell_type": "markdown",
   "metadata": {},
   "source": [
    "# Publish to Medium\n",
    "Using this script it is easy to publish Jupyter notebooks to Medium. We need to get our integration token tho."
   ]
  },
  {
   "cell_type": "code",
   "execution_count": 2,
   "metadata": {},
   "outputs": [],
   "source": [
    "import jupyter_to_medium as jtm\n",
    "\n",
    "my_integration_token = \"my_integration_token\"\n",
    "upload = False\n",
    "\n",
    "if upload:\n",
    "    \n",
    "    jtm.publish('01_get_make_model_links.ipynb',\n",
    "            integration_token=my_integration_token,\n",
    "            pub_name=None,\n",
    "            title='How to web scrape data using Selenium and BeautifulSoup in Python - an example on www.mobile.de (1/3 part)',\n",
    "            tags=None,\n",
    "            publish_status='draft',\n",
    "            notify_followers=False,\n",
    "            license='all-rights-reserved',\n",
    "            canonical_url=None,\n",
    "            chrome_path=None,\n",
    "            save_markdown=False,\n",
    "            table_conversion='chrome',\n",
    "            gistify=False,\n",
    "            gist_threshold=5\n",
    "            )\n",
    "\n",
    "    print('uploaded 1st articel')\n",
    "\n",
    "    jtm.publish('02_get_links_for_make_models.ipynb',\n",
    "            integration_token=my_integration_token,\n",
    "            pub_name=None,\n",
    "            title='How to web scrape data using Selenium and BeautifulSoup in Python - an example on www.mobile.de (2/3 part)',\n",
    "            tags=None,\n",
    "            publish_status='draft',\n",
    "            notify_followers=False,\n",
    "            license='all-rights-reserved',\n",
    "            canonical_url=None,\n",
    "            chrome_path=None,\n",
    "            save_markdown=False,\n",
    "            table_conversion='chrome',\n",
    "            gistify=False,\n",
    "            gist_threshold=5\n",
    "            )\n",
    "    print('uploaded 2nd article')"
   ]
  }
 ],
 "metadata": {
  "interpreter": {
   "hash": "b3ba2566441a7c06988d0923437866b63cedc61552a5af99d1f4fb67d367b25f"
  },
  "kernelspec": {
   "display_name": "Python 3.8.8 64-bit ('base': conda)",
   "language": "python",
   "name": "python3"
  },
  "language_info": {
   "codemirror_mode": {
    "name": "ipython",
    "version": 3
   },
   "file_extension": ".py",
   "mimetype": "text/x-python",
   "name": "python",
   "nbconvert_exporter": "python",
   "pygments_lexer": "ipython3",
   "version": "3.8.8"
  },
  "orig_nbformat": 4
 },
 "nbformat": 4,
 "nbformat_minor": 2
}
