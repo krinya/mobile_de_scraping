{
 "cells": [
  {
   "cell_type": "code",
   "execution_count": 3,
   "metadata": {},
   "outputs": [],
   "source": [
    "import jupyter_to_medium as jtm\n",
    "# jtm.publish('01_get_make_model_links.ipynb',\n",
    "#            integration_token='fill_out_your_token',\n",
    "#            pub_name=None,\n",
    "#            title='proba',\n",
    "#            tags=None,\n",
    "#            publish_status='draft',\n",
    "#            notify_followers=False,\n",
    "#            license='all-rights-reserved',\n",
    "#            canonical_url=None,\n",
    "#            chrome_path=None,\n",
    "#            save_markdown=False,\n",
    "#            table_conversion='chrome',\n",
    "#            gistify=False,\n",
    "#            gist_threshold=5\n",
    "#            )"
   ]
  },
  {
   "cell_type": "code",
   "execution_count": null,
   "metadata": {},
   "outputs": [],
   "source": []
  }
 ],
 "metadata": {
  "interpreter": {
   "hash": "b3ba2566441a7c06988d0923437866b63cedc61552a5af99d1f4fb67d367b25f"
  },
  "kernelspec": {
   "display_name": "Python 3.8.8 64-bit ('base': conda)",
   "language": "python",
   "name": "python3"
  },
  "language_info": {
   "codemirror_mode": {
    "name": "ipython",
    "version": 3
   },
   "file_extension": ".py",
   "mimetype": "text/x-python",
   "name": "python",
   "nbconvert_exporter": "python",
   "pygments_lexer": "ipython3",
   "version": "3.8.8"
  },
  "orig_nbformat": 4
 },
 "nbformat": 4,
 "nbformat_minor": 2
}
